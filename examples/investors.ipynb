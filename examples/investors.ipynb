{
 "cells": [
  {
   "cell_type": "markdown",
   "id": "24627c5a",
   "metadata": {},
   "source": [
    "# Investors, optimal portfolios and indifference curves"
   ]
  },
  {
   "cell_type": "code",
   "execution_count": null,
   "id": "4a7e80d2",
   "metadata": {},
   "outputs": [],
   "source": [
    "from pyvest import InvestmentUniverse\n",
    "from pyvest import YFDataReader"
   ]
  },
  {
   "cell_type": "markdown",
   "id": "4d8093bb",
   "metadata": {},
   "source": [
    "## Investment universe\n",
    "\n",
    "### Download historical data"
   ]
  },
  {
   "cell_type": "code",
   "execution_count": null,
   "id": "ffc4f272",
   "metadata": {},
   "outputs": [],
   "source": [
    "data_reader = YFDataReader()\n",
    "\n",
    "assets = [\"KO\", \"MSFT\", \"WMT\"]\n",
    "start_date = \"1992-12-31\"\n",
    "end_date = \"2022-12-31\"\n",
    "\n",
    "monthly_returns_df = data_reader.read_returns(assets, start_date, end_date)"
   ]
  },
  {
   "cell_type": "markdown",
   "id": "d2a93577",
   "metadata": {},
   "source": [
    "### Estimate expected returns and variance-covariance matrix"
   ]
  },
  {
   "cell_type": "code",
   "execution_count": null,
   "id": "a6fa7a59",
   "metadata": {},
   "outputs": [],
   "source": [
    "mu_hat = monthly_returns_df.mean()\n",
    "cov_hat = monthly_returns_df.cov()"
   ]
  },
  {
   "cell_type": "markdown",
   "id": "1c881715",
   "metadata": {},
   "source": [
    "### Construct the investment universe"
   ]
  },
  {
   "cell_type": "code",
   "execution_count": null,
   "id": "34ce6f89",
   "metadata": {},
   "outputs": [],
   "source": [
    "investment_universe = InvestmentUniverse(assets, mu_hat, cov_hat, r_f=0.25, min_weight=-0.5)"
   ]
  },
  {
   "cell_type": "markdown",
   "id": "456e587b",
   "metadata": {},
   "source": [
    "## Add investors"
   ]
  },
  {
   "cell_type": "code",
   "execution_count": null,
   "id": "3c6acf0b",
   "metadata": {},
   "outputs": [],
   "source": [
    "gamma_henry = 0.01\n",
    "gamma_steve = 0.03"
   ]
  },
  {
   "cell_type": "code",
   "execution_count": null,
   "id": "c9540b08",
   "metadata": {},
   "outputs": [],
   "source": [
    "henry = investment_universe.add_investor(gamma_henry, wealth=1000, name=\"Henry\")\n",
    "steve = investment_universe.add_investor(gamma_steve, wealth=2000, name=\"Steve\")"
   ]
  },
  {
   "cell_type": "code",
   "execution_count": null,
   "id": "3c01376f",
   "metadata": {},
   "outputs": [],
   "source": [
    "investment_universe.investors"
   ]
  },
  {
   "cell_type": "markdown",
   "id": "3f04761e",
   "metadata": {},
   "source": [
    "## Calculate and assign optimal portfolios to investors"
   ]
  },
  {
   "cell_type": "code",
   "execution_count": null,
   "id": "2ea56ab3",
   "metadata": {},
   "outputs": [],
   "source": [
    "investment_universe.calculate_optimal_portfolios()"
   ]
  },
  {
   "cell_type": "code",
   "execution_count": null,
   "id": "2a0daf36",
   "metadata": {},
   "outputs": [],
   "source": [
    "henry"
   ]
  },
  {
   "cell_type": "code",
   "execution_count": null,
   "id": "6bf99ac0",
   "metadata": {},
   "outputs": [],
   "source": [
    "steve"
   ]
  },
  {
   "cell_type": "markdown",
   "id": "4c977229",
   "metadata": {},
   "source": [
    "## Calculate market portfolio"
   ]
  },
  {
   "cell_type": "code",
   "execution_count": null,
   "id": "0867e9e6",
   "metadata": {},
   "outputs": [],
   "source": [
    "investment_universe.calculate_market_portfolio()"
   ]
  },
  {
   "cell_type": "code",
   "execution_count": null,
   "id": "da9b0ab4",
   "metadata": {},
   "outputs": [],
   "source": [
    "investment_universe.total_wealth"
   ]
  },
  {
   "cell_type": "code",
   "execution_count": null,
   "id": "0062bc78",
   "metadata": {},
   "outputs": [],
   "source": [
    "investment_universe.market_portfolio"
   ]
  },
  {
   "cell_type": "markdown",
   "id": "bb3bf07d",
   "metadata": {},
   "source": [
    "## Plot investment universe"
   ]
  },
  {
   "cell_type": "code",
   "execution_count": null,
   "id": "5599817b",
   "metadata": {},
   "outputs": [],
   "source": [
    "investment_universe.calculate_feasible_portfolios()\n",
    "investment_universe.calculate_feasible_portfolios(with_r_f=True)\n",
    "investment_universe.calculate_efficient_frontier()\n",
    "investment_universe.calculate_tangency_portfolio()\n",
    "investment_universe.calculate_cal()"
   ]
  },
  {
   "cell_type": "code",
   "execution_count": null,
   "id": "e1badc9b",
   "metadata": {},
   "outputs": [],
   "source": [
    "investment_universe.plot()"
   ]
  },
  {
   "cell_type": "markdown",
   "id": "8b42e2cd",
   "metadata": {},
   "source": [
    "## Plot indifference curves"
   ]
  },
  {
   "cell_type": "code",
   "execution_count": null,
   "id": "a9ea85cd",
   "metadata": {},
   "outputs": [],
   "source": [
    "investment_universe.plot(indifference_curves=True, legend=\"lower right\")"
   ]
  },
  {
   "cell_type": "code",
   "execution_count": null,
   "id": "8f28f793",
   "metadata": {},
   "outputs": [],
   "source": [
    "investment_universe.plot(indifference_curves=True, investors=[\"Steve\"], legend=\"lower right\")"
   ]
  },
  {
   "cell_type": "code",
   "execution_count": null,
   "id": "c57db913",
   "metadata": {},
   "outputs": [],
   "source": [
    "investment_universe.plot(indifference_curves=[\"investor\"], legend=\"lower right\")"
   ]
  },
  {
   "cell_type": "code",
   "execution_count": null,
   "id": "e30afdf9",
   "metadata": {},
   "outputs": [],
   "source": [
    "investment_universe.plot(indifference_curves=[\"market\", \"tangency\"], legend=\"lower right\")"
   ]
  },
  {
   "cell_type": "markdown",
   "id": "c3eb8ff6",
   "metadata": {},
   "source": [
    "## Assign different portfolios"
   ]
  },
  {
   "cell_type": "code",
   "execution_count": null,
   "id": "0f7f9ad4",
   "metadata": {},
   "outputs": [],
   "source": [
    "henry.portfolio = [0.5, 0.2, 0.1, 0.2]\n",
    "steve.portfolio = [0.1, 0.7, 0.05, 0.15]"
   ]
  },
  {
   "cell_type": "code",
   "execution_count": null,
   "id": "d8aac421",
   "metadata": {},
   "outputs": [],
   "source": [
    "henry"
   ]
  },
  {
   "cell_type": "code",
   "execution_count": null,
   "id": "12c673dc",
   "metadata": {},
   "outputs": [],
   "source": [
    "steve"
   ]
  },
  {
   "cell_type": "code",
   "execution_count": null,
   "id": "93a5fffd",
   "metadata": {},
   "outputs": [],
   "source": [
    "investment_universe.calculate_market_portfolio()"
   ]
  },
  {
   "cell_type": "code",
   "execution_count": null,
   "id": "59f8c5f3",
   "metadata": {},
   "outputs": [],
   "source": [
    "investment_universe.plot(indifference_curves=[\"investor\", \"optimal\"], legend=\"lower right\")"
   ]
  },
  {
   "cell_type": "code",
   "execution_count": null,
   "id": "2959f986",
   "metadata": {},
   "outputs": [],
   "source": [
    "investment_universe.plot(indifference_curves=[\"market\", \"tangency\"], legend=\"lower right\")"
   ]
  }
 ],
 "metadata": {
  "kernelspec": {
   "display_name": "Python 3 (ipykernel)",
   "language": "python",
   "name": "python3"
  },
  "language_info": {
   "codemirror_mode": {
    "name": "ipython",
    "version": 3
   },
   "file_extension": ".py",
   "mimetype": "text/x-python",
   "name": "python",
   "nbconvert_exporter": "python",
   "pygments_lexer": "ipython3",
   "version": "3.11.4"
  }
 },
 "nbformat": 4,
 "nbformat_minor": 5
}
